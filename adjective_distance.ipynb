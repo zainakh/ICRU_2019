{
 "cells": [
  {
   "cell_type": "code",
   "execution_count": 30,
   "metadata": {},
   "outputs": [],
   "source": [
    "import pandas as pd\n",
    "import nltk"
   ]
  },
  {
   "cell_type": "code",
   "execution_count": 31,
   "metadata": {},
   "outputs": [
    {
     "data": {
      "text/plain": [
       "0                                                 text\n",
       "1    Will Donald Trump And Bernie Sanders Actually ...\n",
       "2    Will Donald Trump And Bernie Sanders Actually ...\n",
       "3    Donald Trump #TrumpHead Large Black Custom Dec...\n",
       "4    Clinton: Trump shamed: Hillary Clinton said Tu...\n",
       "Name: 0, dtype: object"
      ]
     },
     "execution_count": 31,
     "metadata": {},
     "output_type": "execute_result"
    }
   ],
   "source": [
    "# Load data frame\n",
    "df = pd.read_csv('/media/zainkhan/USB30FD/suspended-trump-tweets.txt', encoding='latin1', error_bad_lines=False, warn_bad_lines=False, header=None)\n",
    "df = df[0]\n",
    "df.head()"
   ]
  },
  {
   "cell_type": "code",
   "execution_count": 32,
   "metadata": {},
   "outputs": [
    {
     "data": {
      "text/plain": [
       "0                                               [text]\n",
       "1    [will, donald, trump, and, bernie, sanders, ac...\n",
       "2    [will, donald, trump, and, bernie, sanders, ac...\n",
       "3    [donald, trump, #trumphead, large, black, cust...\n",
       "4    [clinton:, trump, shamed:, hillary, clinton, s...\n",
       "Name: 0, dtype: object"
      ]
     },
     "execution_count": 32,
     "metadata": {},
     "output_type": "execute_result"
    }
   ],
   "source": [
    "# Remove stop words\n",
    "df = df.str.lower().str.split()\n",
    "df.head()"
   ]
  },
  {
   "cell_type": "code",
   "execution_count": 33,
   "metadata": {},
   "outputs": [
    {
     "data": {
      "text/plain": [
       "0                                               [text]\n",
       "1    [donald, trump, bernie, sanders, actually, deb...\n",
       "2    [donald, trump, bernie, sanders, actually, deb...\n",
       "3    [donald, trump, #trumphead, large, black, cust...\n",
       "4    [clinton:, trump, shamed:, hillary, clinton, s...\n",
       "Name: 0, dtype: object"
      ]
     },
     "execution_count": 33,
     "metadata": {},
     "output_type": "execute_result"
    }
   ],
   "source": [
    "stop = nltk.corpus.stopwords.words('english')\n",
    "df = df.dropna().apply(lambda x: [item for item in x if item not in stop])\n",
    "df.head()"
   ]
  },
  {
   "cell_type": "code",
   "execution_count": 34,
   "metadata": {},
   "outputs": [
    {
     "name": "stdout",
     "output_type": "stream",
     "text": [
      "[['text'], ['donald', 'trump', 'bernie', 'sanders', 'actually', 'debate', 'in...', 'https://t.co/ycxot44ffi', 'https://t.co/ouo0ukfnnd']]\n"
     ]
    }
   ],
   "source": [
    "# Separate into sentences\n",
    "sentences = df.tolist()\n",
    "print(sentences[:2])"
   ]
  },
  {
   "cell_type": "code",
   "execution_count": 35,
   "metadata": {},
   "outputs": [
    {
     "name": "stdout",
     "output_type": "stream",
     "text": [
      "[['text'], ['donald', 'trump', 'bernie', 'sanders', 'actually', 'debate']]\n"
     ]
    }
   ],
   "source": [
    "# Clean and remove illegal characters\n",
    "import re\n",
    "def clean(s):\n",
    "    for i, w in enumerate(s):\n",
    "        if contains_illegal(w):\n",
    "            s[i] = ''\n",
    "        else:\n",
    "            if 'cli' in w:\n",
    "                s[i] = 'clinton'\n",
    "            elif 'hrc' in w or 'hil' in w:\n",
    "                s[i] = 'hillary'\n",
    "            elif 'tru' in w or 'trmp' in w:\n",
    "                s[i] = 'trump'\n",
    "            elif 'bern' in w:\n",
    "                s[i] = 'bernie'\n",
    "            elif 'sander' in w:\n",
    "                s[i] = 'sanders'\n",
    "            extras = '0123456789~_=*^,.-`%\"\"+#&\"!?<>:;/\\\\\\'()[]{}$|\\x91\\x92\\x93\\x94\\x96\\x97'\n",
    "            s[i] = s[i].translate({ord(c):'' for c in extras})\n",
    "            if len(s[i]) < 4:\n",
    "                s[i] = ''\n",
    "    return s\n",
    "                    \n",
    "def contains_illegal(w):\n",
    "    illegal = ['@', '#', 'htt', 'via', 'desd']\n",
    "    if any(x in w for x in illegal):\n",
    "        return True\n",
    "    if re.match(\"^\\d+?\\.\\d+?$\", w) is not None:\n",
    "        return True\n",
    "    return False \n",
    "\n",
    "sentences = [clean(s) for s in sentences if len(s) > 0]\n",
    "sentences = [list(filter(None, sentence)) for sentence in sentences]\n",
    "print(sentences[:2])"
   ]
  },
  {
   "cell_type": "code",
   "execution_count": 36,
   "metadata": {},
   "outputs": [
    {
     "data": {
      "text/plain": [
       "['accessible', 'active', 'adaptable', 'admirable', 'adventurous']"
      ]
     },
     "execution_count": 36,
     "metadata": {},
     "output_type": "execute_result"
    }
   ],
   "source": [
    "# Get adjective list to iterate over\n",
    "adj = pd.read_csv('adjectives-character-richards.csv')\n",
    "adj = adj.values.tolist()\n",
    "adj = [word[0] for word in adj]\n",
    "adj.append('corrupt')\n",
    "adj.append('crooked')\n",
    "adj[:5]"
   ]
  },
  {
   "cell_type": "code",
   "execution_count": null,
   "metadata": {},
   "outputs": [],
   "source": [
    "# Maps adjective occurences per sentence relative to a word\n",
    "def adj_to_word(sentences, adj_list, target):\n",
    "    adj_to_word = {}\n",
    "    sentences_with_target = [s for s in sentences if target in s]\n",
    "\n",
    "    for adj in adj_list:\n",
    "        for sentence in sentences_with_target:\n",
    "            if adj in sentence:\n",
    "                if adj in adj_to_word:\n",
    "                    adj_to_word[adj] += 1\n",
    "                else:\n",
    "                    adj_to_word[adj] = 1\n",
    "    return adj_to_word\n",
    "\n",
    "target_word = 'clinton'\n",
    "d = adj_to_word(sentences, adj, target_word)"
   ]
  },
  {
   "cell_type": "code",
   "execution_count": null,
   "metadata": {},
   "outputs": [],
   "source": [
    "dlist = []\n",
    "for key, value in d.items():\n",
    "    temp = [key,value]\n",
    "    dlist.append(temp)\n",
    "dlist.sort(key=lambda x: x[1], reverse=True)\n",
    "print(dlist[:3])"
   ]
  },
  {
   "cell_type": "code",
   "execution_count": null,
   "metadata": {},
   "outputs": [],
   "source": [
    "print(target_word)\n",
    "for i in dlist:\n",
    "    print(i[0], i[1])"
   ]
  },
  {
   "cell_type": "code",
   "execution_count": null,
   "metadata": {},
   "outputs": [],
   "source": []
  }
 ],
 "metadata": {
  "kernelspec": {
   "display_name": "Python 3",
   "language": "python",
   "name": "python3"
  },
  "language_info": {
   "codemirror_mode": {
    "name": "ipython",
    "version": 3
   },
   "file_extension": ".py",
   "mimetype": "text/x-python",
   "name": "python",
   "nbconvert_exporter": "python",
   "pygments_lexer": "ipython3",
   "version": "3.6.5"
  }
 },
 "nbformat": 4,
 "nbformat_minor": 2
}
